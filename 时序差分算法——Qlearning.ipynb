{
 "cells": [
  {
   "cell_type": "code",
   "execution_count": 2,
   "metadata": {},
   "outputs": [],
   "source": [
    "# Q-learning 实现\n",
    "# 悬崖漫步环境下\n",
    "import matplotlib.pyplot as plt\n",
    "import numpy as np\n",
    "from tqdm import tqdm"
   ]
  },
  {
   "cell_type": "code",
   "execution_count": 4,
   "metadata": {},
   "outputs": [],
   "source": [
    "class CliffWalkingEnv:\n",
    "    def __init__(self,ncol,nrow):\n",
    "        self.nrow = nrow\n",
    "        self.ncol = ncol\n",
    "        self.col = 0\n",
    "        self.row = self.nrow - 1\n",
    "\n",
    "        self.actions = [[0, -1], [0, 1], [-1, 0], [1, 0]] # 上下左右移动\n",
    "    \n",
    "    def reset(self):\n",
    "        self.col = 0\n",
    "        self.row = self.nrow - 1\n",
    "        return self.row * self.ncol + self.col\n",
    "\n",
    "    # agent和环境的交互\n",
    "    # 要获得next state,对应的reward，要知道是否是最终状态\n",
    "    def step(self,action):\n",
    "        self.col = min(self.ncol-1,max(0,self.col + self.actions[action][0]))\n",
    "        self.row = min(self.nrow-1,max(0,self.row + self.actions[action][1]))\n",
    "\n",
    "        next_state = self.row * self.ncol + self.col\n",
    "        reward = -1\n",
    "        done = False\n",
    "\n",
    "        if self.row == self.nrow -1 and self.col > 0:\n",
    "            done = True\n",
    "            if self.col != self.ncol - 1:\n",
    "                reward = -100\n",
    "        \n",
    "        return next_state, reward,done\n"
   ]
  },
  {
   "cell_type": "code",
   "execution_count": 5,
   "metadata": {},
   "outputs": [],
   "source": [
    "class QLearning:\n",
    "    def __init__(self,ncol, nrow,alpha,gamma,epsilon,n_action = 4) -> None:\n",
    "\n",
    "        self.n_action = n_action  # 动作个数\n",
    "        self.alpha = alpha  # 学习率\n",
    "        self.gamma = gamma  # 折扣因子\n",
    "        # 这个是行为策略中采用的策略\n",
    "        self.epsilon = epsilon  # epsilon-贪婪策略中的参数\n",
    "\n",
    "        self.Q_table = np.zeros([nrow * ncol,self.n_action])\n",
    "    \n",
    "    def take_action(self,state):\n",
    "        '''这个是行为策略下所采取的action,可以看作是采样过程'''\n",
    "        choose = np.random.random()\n",
    "\n",
    "        if choose < self.epsilon:\n",
    "            action = np.random.randint(self.n_action)\n",
    "        else:\n",
    "            action = np.argmax(self.Q_table[state])\n",
    "        \n",
    "        return action\n",
    "\n",
    "    def update(self,s0,a0,r,s1):\n",
    "        '''更新的输入只需要当前状态，当前行动，对应的reward，和转移状态'''\n",
    "        # 和SARSA相比不需要下一个状态的动作了\n",
    "        # 因为计算Q的时候会直接选择 s1状态下最大的Q-value\n",
    "\n",
    "        Q_real = r + self.gamma * self.Q_table[s1].max()\n",
    "        Q_old = self.Q_table[s0][a0]\n",
    "        \n",
    "        self.Q_table[s0][a0] += self.alpha*(Q_real - Q_old)\n",
    "    \n",
    "    def best_action(self,state):\n",
    "        # 用于后面打印策略\n",
    "        Q_max = np.max(self.Q_table[state])\n",
    "        a = [0 for _ in range(self.n_action)]\n",
    "        for i in range(self.n_action):\n",
    "            if self.Q_table[state][i] == Q_max:\n",
    "                a[i] = 1\n",
    "        \n",
    "        return a"
   ]
  },
  {
   "cell_type": "code",
   "execution_count": 8,
   "metadata": {},
   "outputs": [],
   "source": [
    "def print_agent(agent, env, action_meaning, disaster=[], end=[]):\n",
    "    for i in range(env.nrow):\n",
    "        for j in range(env.ncol):\n",
    "            if (i * env.ncol + j) in disaster:\n",
    "                print('****', end=' ')\n",
    "            elif (i * env.ncol + j) in end:\n",
    "                print('EEEE', end=' ')\n",
    "            else:\n",
    "                a = agent.best_action(i * env.ncol + j)\n",
    "                pi_str = ''\n",
    "                for k in range(len(action_meaning)):\n",
    "                    pi_str += action_meaning[k] if a[k] > 0 else 'o'\n",
    "                print(pi_str, end=' ')\n",
    "        print()"
   ]
  },
  {
   "cell_type": "code",
   "execution_count": 26,
   "metadata": {},
   "outputs": [],
   "source": [
    "# 在悬崖漫步条件下 使用Q-learning算法\n",
    "np.random.seed(5)\n",
    "\n",
    "# 定义环境\n",
    "nrow = 4\n",
    "ncol = 12\n",
    "env = CliffWalkingEnv(ncol,nrow)\n",
    "\n",
    "# 定义agent\n",
    "epsilon = 0.1\n",
    "alpha = 0.1\n",
    "gamma = 0.9\n",
    "agent = QLearning(ncol,nrow,alpha,gamma,epsilon,len(env.actions))\n",
    "\n",
    "num_episodes = 5000"
   ]
  },
  {
   "cell_type": "code",
   "execution_count": 28,
   "metadata": {},
   "outputs": [
    {
     "name": "stderr",
     "output_type": "stream",
     "text": [
      "Iteration 0: 100%|██████████| 500/500 [00:00<00:00, 5529.31it/s, episode=500, return=-41.800]\n",
      "Iteration 1: 100%|██████████| 500/500 [00:00<00:00, 6641.90it/s, episode=1000, return=-33.000]\n",
      "Iteration 2: 100%|██████████| 500/500 [00:00<00:00, 6910.64it/s, episode=1500, return=-40.900]\n",
      "Iteration 3: 100%|██████████| 500/500 [00:00<00:00, 6998.70it/s, episode=2000, return=-60.900]\n",
      "Iteration 4: 100%|██████████| 500/500 [00:00<00:00, 7021.80it/s, episode=2500, return=-33.100]\n",
      "Iteration 5: 100%|██████████| 500/500 [00:00<00:00, 6467.48it/s, episode=3000, return=-22.700]\n",
      "Iteration 6: 100%|██████████| 500/500 [00:00<00:00, 6865.67it/s, episode=3500, return=-24.800]\n",
      "Iteration 7: 100%|██████████| 500/500 [00:00<00:00, 6783.37it/s, episode=4000, return=-32.100]\n",
      "Iteration 8: 100%|██████████| 500/500 [00:00<00:00, 6799.20it/s, episode=4500, return=-42.800]\n",
      "Iteration 9: 100%|██████████| 500/500 [00:00<00:00, 5858.78it/s, episode=5000, return=-14.500]\n"
     ]
    }
   ],
   "source": [
    "return_list = []\n",
    "\n",
    "for i in range(10):\n",
    "    with tqdm(total = int(num_episodes / 10),desc = 'Iteration %d' % i) as pbar:\n",
    "        for i_episode in range(int(num_episodes / 10)):\n",
    "            # 对于每一条序列\n",
    "            # 从最初状态开始\n",
    "            state = env.reset()\n",
    "            episode_return = 0\n",
    "            done = False\n",
    "\n",
    "            # 开始采样\n",
    "            while not done:\n",
    "                # 构造更新的输入\n",
    "                action = agent.take_action(state)\n",
    "                next_state,reward,done = env.step(action)\n",
    "\n",
    "                agent.update(state,action,reward,next_state)\n",
    "                episode_return += reward # reward没衰减，所以画图应该是不怎么收敛的\n",
    "\n",
    "                state = next_state\n",
    "            \n",
    "            # 一条序列结束\n",
    "            return_list.append(episode_return)\n",
    "            if (i_episode + 1) % 10 == 0:  # 每10条序列打印一下这10条序列的平均回报\n",
    "                pbar.set_postfix({\n",
    "                    'episode':\n",
    "                    '%d' % (num_episodes / 10 * i + i_episode + 1),\n",
    "                    'return':\n",
    "                    '%.3f' % np.mean(return_list[-10:])\n",
    "                })\n",
    "            pbar.update(1)"
   ]
  },
  {
   "cell_type": "code",
   "execution_count": 29,
   "metadata": {},
   "outputs": [
    {
     "data": {
      "image/png": "[encoded data removed]",
      "text/plain": [
       "<Figure size 640x480 with 1 Axes>"
      ]
     },
     "metadata": {},
     "output_type": "display_data"
    }
   ],
   "source": [
    "# 画图\n",
    "episodes_list = list(range(len(return_list)))\n",
    "plt.plot(episodes_list, return_list)\n",
    "plt.xlabel('Episodes')\n",
    "plt.ylabel('Returns')\n",
    "plt.title('Q-learning on {}'.format('Cliff Walking'))\n",
    "plt.show()"
   ]
  },
  {
   "cell_type": "code",
   "execution_count": 30,
   "metadata": {},
   "outputs": [
    {
     "name": "stdout",
     "output_type": "stream",
     "text": [
      "ovoo ovoo ooo> ooo> ovoo ooo> ooo> ooo> ovoo ooo> ovoo ovoo \n",
      "ooo> ooo> ovoo ooo> ooo> ovoo ovoo ovoo ovoo ovoo ooo> ovoo \n",
      "ooo> ooo> ooo> ooo> ooo> ooo> ooo> ooo> ooo> ooo> ooo> ovoo \n",
      "^ooo **** **** **** **** **** **** **** **** **** **** EEEE \n"
     ]
    }
   ],
   "source": [
    "action_meaning = ['^','v','<','>']\n",
    "end = [nrow * ncol - 1]\n",
    "disaster_s = (nrow-1) * ncol + 1\n",
    "disaster_e = nrow*ncol - 1\n",
    "disaster = list(range(disaster_s,disaster_e))\n",
    "print_agent(agent,env,action_meaning,disaster,end)"
   ]
  },
  {
   "cell_type": "code",
   "execution_count": null,
   "metadata": {},
   "outputs": [],
   "source": []
  }
 ],
 "metadata": {
  "kernelspec": {
   "display_name": "Python 3.8.13 ('test')",
   "language": "python",
   "name": "python3"
  },
  "language_info": {
   "codemirror_mode": {
    "name": "ipython",
    "version": 3
   },
   "file_extension": ".py",
   "mimetype": "text/x-python",
   "name": "python",
   "nbconvert_exporter": "python",
   "pygments_lexer": "ipython3",
   "version": "3.8.13"
  },
  "orig_nbformat": 4,
  "vscode": {
   "interpreter": {
    "hash": "507282c310f2b46b428861c14786ca622dbc051b099d6e4ccec4958454a21a3a"
   }
  }
 },
 "nbformat": 4,
 "nbformat_minor": 2
}
