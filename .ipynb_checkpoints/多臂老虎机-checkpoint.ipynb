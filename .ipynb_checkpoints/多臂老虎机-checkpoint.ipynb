{
 "cells": [
  {
   "cell_type": "code",
   "execution_count": 1,
   "id": "e262b7b9",
   "metadata": {},
   "outputs": [],
   "source": [
    "import numpy as np\n",
    "import matplotlib.pyplot as plt"
   ]
  },
  {
   "cell_type": "code",
   "execution_count": 14,
   "id": "65a45569",
   "metadata": {},
   "outputs": [],
   "source": [
    "# plot_results，用于可视化\n",
    "def plot_results(solvers,solver_names):\n",
    "    \"\"\"\n",
    "    生成累积懊悔随时间变化的图像。\n",
    "    solvers是一个list，保存各种policy\n",
    "    solver_names是一个list，保存policy的名称\n",
    "    \"\"\"\n",
    "    \n",
    "    for idx,solver in enumerate(solvers):\n",
    "        time_list = range(len(solver.regrets)) # 时间长度，每个时间步记录一个累积懊悔\n",
    "        plt.plot(time_list,solver.regrets,label=solver_names[idx])\n",
    "    \n",
    "    plt.xlabel('Time steps')\n",
    "    plt.ylabel('Cumulative regrets')\n",
    "    plt.title('%d-armed bandit' % solvers[0].bandit.K)\n",
    "    plt.legend()\n",
    "    plt.show()   "
   ]
  },
  {
   "cell_type": "code",
   "execution_count": 8,
   "id": "19a40c9f",
   "metadata": {},
   "outputs": [],
   "source": [
    "class BernoulliBandit:\n",
    "    \"\"\"基于伯努利分布的多臂老虎机\"\"\"\n",
    "    \n",
    "    def __init__(self,K):\n",
    "        # K个拉杆，不同的分布，随机生成K个概率，用于描述不同的奖励概率分布\n",
    "        # uniform 默认抽样范围[0,1]\n",
    "        self.probs = np.random.uniform(size=K)\n",
    "        # 获奖概率最大的拉杆\n",
    "        self.best_idx = np.argmax(self.probs)\n",
    "        self.best_prob = self.probs[self.best_idx]\n",
    "        \n",
    "        self.K = K\n",
    "    \n",
    "    # 每个时间步的操作所获得的奖励\n",
    "    def step(self,k):\n",
    "        # input是玩家所选择的拉杆的id，即玩家选择的action\n",
    "        \n",
    "        # 随机一个数表示这次的获奖概率，如果小于分布期望p，则有奖励\n",
    "        # 否则没有奖励\n",
    "        p = np.random.rand()# 在【0，1）范围内从均匀分布中采样\n",
    "        \n",
    "        if p < self.probs[k]:\n",
    "            return 1\n",
    "        else:\n",
    "            return 0"
   ]
  },
  {
   "cell_type": "code",
   "execution_count": 16,
   "id": "d45dee39",
   "metadata": {},
   "outputs": [
    {
     "name": "stdout",
     "output_type": "stream",
     "text": [
      "随机生成了一个10臂伯努利老虎机\n",
      "获奖概率最大的拉杆为1号,其获奖概率为0.7203\n"
     ]
    }
   ],
   "source": [
    "# 实例化一个多臂老虎机了解情况,真实情况\n",
    "np.random.seed(1) # 设定随机种子,使实验具有可重复性\n",
    "K = 10\n",
    "bandit_10_arm = BernoulliBandit(K)\n",
    "print(\"随机生成了一个%d臂伯努利老虎机\" % K)\n",
    "print(\"获奖概率最大的拉杆为%d号,其获奖概率为%.4f\" %\n",
    "      (bandit_10_arm.best_idx, bandit_10_arm.best_prob))"
   ]
  },
  {
   "cell_type": "code",
   "execution_count": 19,
   "id": "78c9a0f4",
   "metadata": {},
   "outputs": [],
   "source": [
    "# 对多臂老虎机求解\n",
    "class Solver:\n",
    "    \n",
    "    def __init__(self,bandit):\n",
    "        self.bandit = bandit\n",
    "        self.counts = np.zeros(bandit.K) # 计数拉杆次数\n",
    "        self.regret = 0. # 当前步的累积懊悔\n",
    "        self.actions = [] # 记录动作序列\n",
    "        self.regrets = [] # 记录每一步的累积懊悔\n",
    "        \n",
    "    def update_regret(self,k):\n",
    "        \"\"\"更新累积懊悔\"\"\"\n",
    "        self.regret += (self.bandit.best_prob - self.bandit.probs[k])\n",
    "        self.regrets.append(self.regret)\n",
    "    \n",
    "    def run_one_step(self):\n",
    "        \"\"\"这里是根据策略选择action\n",
    "            结果应该要返回action\"\"\"\n",
    "        raise NotImplementedError\n",
    "    \n",
    "    def run(self,num_steps):\n",
    "        # 运行指定的时间步 num_steps\n",
    "        for _ in range(num_steps):\n",
    "            # 根据policy 确定action\n",
    "            k = self.run_one_step() \n",
    "            self.actions.append(k)\n",
    "            \n",
    "            # 根据动作获取奖励\n",
    "            # 更新期望奖励估值\n",
    "            \n",
    "            # 更新累积懊悔\n",
    "            self.counts[k] += 1\n",
    "            self.update_regret(k)"
   ]
  },
  {
   "cell_type": "code",
   "execution_count": 21,
   "id": "7ededeb0",
   "metadata": {},
   "outputs": [],
   "source": [
    "# epsilon-贪心算法，其中epsilon是固定的\n",
    "class EpsilonGreedy(Solver):\n",
    "    def __init__(self,bandit,epsilon = 0.01,init_prob=1.0):\n",
    "        \"\"\"\n",
    "        epsilon:选择探索的概率\n",
    "        init_prob: 用于初始化期望奖励估值\n",
    "        \"\"\"\n",
    "        super(EpsilonGreedy,self).__init__(bandit)\n",
    "        self.epsilon = epsilon\n",
    "        \n",
    "        # 初始化期望奖励估值（Q^）\n",
    "        self.estimates = np.array([init_prob] * self.bandit.K)\n",
    "    \n",
    "    def run_one_step(self):\n",
    "        choose = np.random.random() # 用于决定这次是探索还是利用的随机变量\n",
    "        \n",
    "        # 探索，随机选择一个杆作为动作\n",
    "        if choose < self.epsilon:\n",
    "            k = np.random.randint(0,self.bandit.K)\n",
    "        # 利用，选择已经知道的，最优期望的杠杆\n",
    "        else:\n",
    "            k = np.argmax(self.estimates)\n",
    "        \n",
    "        # 这次获得的奖励\n",
    "        r = self.bandit.step(k)\n",
    "        \n",
    "        # 更新期望奖励估计值,t这里指的是该动作k运行过的次数\n",
    "        # Qt = Q_(t-1) + (rt - Q_(t-1))/t\n",
    "        self.estimates[k] = self.estimates[k] + (r - self.estimates[k])*1./(self.counts[k] + 1)\n",
    "        \n",
    "        return k"
   ]
  },
  {
   "cell_type": "code",
   "execution_count": 32,
   "id": "f27f21db",
   "metadata": {},
   "outputs": [],
   "source": [
    "class DecayingEpsilonGreedy(Solver):\n",
    "    \"\"\" epsilon值随时间衰减的epsilon-贪婪算法,继承Solver类 \"\"\"\n",
    "    \n",
    "    def __init__(self,bandit,init_prob=1.0):\n",
    "        super(DecayingEpsilonGreedy, self).__init__(bandit)\n",
    "        self.estimates = np.array([init_prob] * self.bandit.K)\n",
    "        \n",
    "        self.total_count=0 # 用这个来表示epsilon\n",
    "        # epsilon随着时间步的增加逐渐降低，第一次一定是探索\n",
    "    \n",
    "    def run_one_step(self):\n",
    "        self.total_count += 1\n",
    "        choose = np.random.random()\n",
    "        \n",
    "        # 探索\n",
    "        if choose < 1 / self.total_count:\n",
    "            k = np.random.randint(0,self.bandit.K)\n",
    "        # 利用\n",
    "        else:\n",
    "            k = np.argmax(self.estimates)\n",
    "        \n",
    "        r = self.bandit.step(k)\n",
    "        self.estimates[k] = \\\n",
    "            self.estimates[k] + 1./(self.counts[k]+1) * (r - self.estimates[k]) \n",
    "        \n",
    "        return k"
   ]
  },
  {
   "cell_type": "code",
   "execution_count": 46,
   "id": "d2f68a0d",
   "metadata": {},
   "outputs": [],
   "source": [
    "# 汤普森采样算法,基于beta分布\n",
    "\n",
    "class ThompsonSampling(Solver):\n",
    "    \"\"\" 汤普森采样算法,继承Solver类 \"\"\"\n",
    "    def __init__(self, bandit):\n",
    "        super(ThompsonSampling, self).__init__(bandit)\n",
    "        # 记录次数+1，也是其服从的beta分布的参数B(m1+1.m2+1)\n",
    "        self._a = np.ones(self.bandit.K)\n",
    "        self._b = np.ones(self.bandit.K)\n",
    "        \n",
    "    def run_one_step(self):\n",
    "        # 采样情况\n",
    "        # 得到一组各根拉杆的奖励样本(reward大小？)\n",
    "        samples = np.random.beta(self._a,self._b)\n",
    "        k = np.argmax(samples)\n",
    "        r = self.bandit.step(k) # 奖励情况，1 or 0 \n",
    "        \n",
    "        self._a[k] += r\n",
    "        self._b[k] += (1-r)\n",
    "        \n",
    "        return k"
   ]
  },
  {
   "cell_type": "code",
   "execution_count": 45,
   "id": "ebdbaada",
   "metadata": {},
   "outputs": [
    {
     "data": {
      "text/plain": [
       "array([0.84087634, 0.21728666])"
      ]
     },
     "execution_count": 45,
     "metadata": {},
     "output_type": "execute_result"
    }
   ],
   "source": [
    "np.random.beta([2,2],[2,2])"
   ]
  },
  {
   "cell_type": "code",
   "execution_count": 22,
   "id": "b5f05ecc",
   "metadata": {},
   "outputs": [
    {
     "name": "stdout",
     "output_type": "stream",
     "text": [
      "epsilon-贪婪算法的累积懊悔为： 25.526630933945313\n"
     ]
    },
    {
     "data": {
      "image/png": "[encoded data removed]",
      "text/plain": [
       "<Figure size 432x288 with 1 Axes>"
      ]
     },
     "metadata": {
      "needs_background": "light"
     },
     "output_type": "display_data"
    }
   ],
   "source": [
    "# 运用epsilon-greedy,epsilon值不变\n",
    "np.random.seed(1)\n",
    "epsilon_greedy_solver = EpsilonGreedy(bandit_10_arm,epsilon=0.01)\n",
    "epsilon_greedy_solver.run(5000) # 5000个时间步\n",
    "\n",
    "print('epsilon-贪婪算法的累积懊悔为：', epsilon_greedy_solver.regret)\n",
    "plot_results([epsilon_greedy_solver],[\"EpsilonGreedy\"])"
   ]
  },
  {
   "cell_type": "code",
   "execution_count": 31,
   "id": "cd56d1f0",
   "metadata": {},
   "outputs": [
    {
     "data": {
      "image/png": "[encoded data removed]",
      "text/plain": [
       "<Figure size 432x288 with 1 Axes>"
      ]
     },
     "metadata": {
      "needs_background": "light"
     },
     "output_type": "display_data"
    }
   ],
   "source": [
    "# 多种epsilon尝试，epsilon不变\n",
    "np.random.seed(10)\n",
    "epsilons = [1e-4, 0.01, 0.1, 0.25, 0.5]\n",
    "epsilon_greedy_solver_list = [\n",
    "    EpsilonGreedy(bandit_10_arm,epsilon = e) for e in epsilons\n",
    "]\n",
    "epsilon_greedy_solver_names = [\n",
    "    \"epsilon={}\".format(e) for e in epsilons\n",
    "]\n",
    "for solver in epsilon_greedy_solver_list:\n",
    "    solver.run(5000)\n",
    "\n",
    "plot_results(epsilon_greedy_solver_list,epsilon_greedy_solver_names)"
   ]
  },
  {
   "cell_type": "code",
   "execution_count": 44,
   "id": "5d68cf05",
   "metadata": {},
   "outputs": [
    {
     "name": "stdout",
     "output_type": "stream",
     "text": [
      "epsilon值衰减的贪婪算法的累积懊悔为： 10.114334931260183\n"
     ]
    },
    {
     "data": {
      "image/png": "[encoded data removed]",
      "text/plain": [
       "<Figure size 432x288 with 1 Axes>"
      ]
     },
     "metadata": {
      "needs_background": "light"
     },
     "output_type": "display_data"
    }
   ],
   "source": [
    "# 运用epsilon衰减的贪心策略\n",
    "np.random.seed(1) # ???\n",
    "decaying_epsilon_greedy_solver = DecayingEpsilonGreedy(bandit_10_arm)\n",
    "decaying_epsilon_greedy_solver.run(5000)\n",
    "print('epsilon值衰减的贪婪算法的累积懊悔为：', decaying_epsilon_greedy_solver.regret)\n",
    "plot_results([decaying_epsilon_greedy_solver],[\"DecayingEpsilonGreedy\"])"
   ]
  },
  {
   "cell_type": "code",
   "execution_count": 51,
   "id": "f9bf4e3a",
   "metadata": {},
   "outputs": [
    {
     "name": "stdout",
     "output_type": "stream",
     "text": [
      "汤普森采样算法的累积懊悔为： 57.19161964443925\n"
     ]
    },
    {
     "data": {
      "image/png": "[encoded data removed]",
      "text/plain": [
       "<Figure size 432x288 with 1 Axes>"
      ]
     },
     "metadata": {
      "needs_background": "light"
     },
     "output_type": "display_data"
    }
   ],
   "source": [
    "# 运用汤普森采样法\n",
    "np.random.seed(1)\n",
    "thompson_sampling_solver = ThompsonSampling(bandit_10_arm)\n",
    "thompson_sampling_solver.run(5000)\n",
    "print('汤普森采样算法的累积懊悔为：', thompson_sampling_solver.regret)\n",
    "plot_results([thompson_sampling_solver], [\"ThompsonSampling\"])"
   ]
  },
  {
   "cell_type": "code",
   "execution_count": null,
   "id": "39a040e5",
   "metadata": {},
   "outputs": [],
   "source": []
  }
 ],
 "metadata": {
  "kernelspec": {
   "display_name": "Python 3 (ipykernel)",
   "language": "python",
   "name": "python3"
  },
  "language_info": {
   "codemirror_mode": {
    "name": "ipython",
    "version": 3
   },
   "file_extension": ".py",
   "mimetype": "text/x-python",
   "name": "python",
   "nbconvert_exporter": "python",
   "pygments_lexer": "ipython3",
   "version": "3.9.12"
  }
 },
 "nbformat": 4,
 "nbformat_minor": 5
}
